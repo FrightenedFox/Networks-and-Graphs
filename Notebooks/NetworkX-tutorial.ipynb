{
 "cells": [
  {
   "cell_type": "markdown",
   "id": "b41c415b-2dd7-4953-b1c7-df088cb686f1",
   "metadata": {
    "tags": []
   },
   "source": [
    "## NetworkX tutorial"
   ]
  },
  {
   "cell_type": "code",
   "execution_count": 1,
   "id": "37746f68-7f4e-421f-9ed1-f43fd3913438",
   "metadata": {},
   "outputs": [],
   "source": [
    "import numpy as np\n",
    "import pandas as pd\n",
    "import networkx as nx\n",
    "import matplotlib.pyplot as plt"
   ]
  },
  {
   "cell_type": "code",
   "execution_count": 2,
   "id": "6fb407d5-0884-4ee5-ab96-53eeda7556cb",
   "metadata": {},
   "outputs": [],
   "source": [
    "G = nx.Graph()"
   ]
  },
  {
   "cell_type": "code",
   "execution_count": 3,
   "id": "fe75183f-9a87-44c7-b36c-402d4f678440",
   "metadata": {},
   "outputs": [],
   "source": [
    "G.add_node(1)"
   ]
  },
  {
   "cell_type": "code",
   "execution_count": 4,
   "id": "557a7e45-e976-4ca3-b043-2d7ba1b1dee0",
   "metadata": {},
   "outputs": [],
   "source": [
    "G.add_nodes_from([\n",
    "    (2, {\"color\": \"red\"}),\n",
    "    (3, {\"color\": \"green\"}),\n",
    "    (\"AB\", {\"color\": \"blue\"}),\n",
    "])"
   ]
  },
  {
   "cell_type": "code",
   "execution_count": 5,
   "id": "294ca3bd-6e57-4c76-853b-7063ef85a61b",
   "metadata": {},
   "outputs": [],
   "source": [
    "H = nx.path_graph(10)\n",
    "G.add_nodes_from(H)"
   ]
  },
  {
   "cell_type": "code",
   "execution_count": 6,
   "id": "01c1513b-0054-4f14-94c2-d3e87d87f919",
   "metadata": {},
   "outputs": [],
   "source": [
    "G.add_node(H)"
   ]
  },
  {
   "cell_type": "markdown",
   "id": "1a5d92a5-03f3-4a04-ad38-bb3c847eaca3",
   "metadata": {
    "tags": []
   },
   "source": [
    "^^^  \n",
    "Cały graf **H** może występować w roli wierzchołka grafu **G**"
   ]
  },
  {
   "cell_type": "code",
   "execution_count": 7,
   "id": "db3c4ba3-7a8e-4430-bd58-5d6f3dc798a7",
   "metadata": {},
   "outputs": [],
   "source": [
    "G.add_edge(1, 2)"
   ]
  },
  {
   "cell_type": "code",
   "execution_count": 8,
   "id": "417bacad-68c7-4afd-983d-1978c9c4497d",
   "metadata": {},
   "outputs": [],
   "source": [
    "edg = (2, 3)\n",
    "G.add_edge(*edg)"
   ]
  },
  {
   "cell_type": "code",
   "execution_count": 9,
   "id": "ce46272d-52a6-49ad-87e8-eead09180bf2",
   "metadata": {},
   "outputs": [],
   "source": [
    "G.add_edges_from([\n",
    "    (1, 2, {'weight': 3.1415}), \n",
    "    (1, 3, {'weight': 2.2423}),\n",
    "])"
   ]
  },
  {
   "cell_type": "code",
   "execution_count": 10,
   "id": "3b43368a-e7b2-42d8-8c38-31749e57c437",
   "metadata": {},
   "outputs": [],
   "source": [
    "G.add_edges_from(H.edges)"
   ]
  },
  {
   "cell_type": "code",
   "execution_count": 11,
   "id": "3eb0b6d2-b9c1-40d3-b057-e07f7c0657eb",
   "metadata": {},
   "outputs": [
    {
     "data": {
      "text/plain": [
       "[(0, 1), (1, 2), (2, 3), (3, 4), (4, 5), (5, 6), (6, 7), (7, 8), (8, 9)]"
      ]
     },
     "execution_count": 11,
     "metadata": {},
     "output_type": "execute_result"
    }
   ],
   "source": [
    "list(H.edges)"
   ]
  },
  {
   "cell_type": "code",
   "execution_count": 12,
   "id": "5be52e74-7884-4c4d-91dc-69b200cfe7d4",
   "metadata": {},
   "outputs": [],
   "source": [
    "G.clear()"
   ]
  },
  {
   "cell_type": "code",
   "execution_count": 13,
   "id": "0b0e5f5a-1b11-467b-bdcf-9024fbb25381",
   "metadata": {},
   "outputs": [],
   "source": [
    "G.add_edges_from([(1, 2), (1, 3)])\n",
    "G.add_node(1)\n",
    "G.add_edge(1, 2)\n",
    "G.add_node(\"spam\")        # adds node \"spam\"\n",
    "G.add_nodes_from(\"spam\")  # adds 4 nodes: 's', 'p', 'a', 'm'\n",
    "G.add_edge(3, 'm')"
   ]
  },
  {
   "cell_type": "code",
   "execution_count": 14,
   "id": "26e995be-a175-4183-ad59-0148dafd07c2",
   "metadata": {},
   "outputs": [
    {
     "data": {
      "text/plain": [
       "(8, 3)"
      ]
     },
     "execution_count": 14,
     "metadata": {},
     "output_type": "execute_result"
    }
   ],
   "source": [
    "G.number_of_nodes(), G.number_of_edges()"
   ]
  },
  {
   "cell_type": "code",
   "execution_count": 15,
   "id": "e9b03b3b-dc0e-4122-8119-896bb19d4679",
   "metadata": {},
   "outputs": [],
   "source": [
    "DG = nx.DiGraph()\n",
    "DG.add_edge(2, 1)   # adds the nodes in order 2, 1\n",
    "DG.add_edge(1, 3)\n",
    "DG.add_edge(2, 4)\n",
    "DG.add_edge(1, 2)\n",
    "assert list(DG.successors(2)) == [1, 4]\n",
    "assert list(DG.edges) == [(2, 1), (2, 4), (1, 3), (1, 2)]"
   ]
  },
  {
   "cell_type": "code",
   "execution_count": 16,
   "id": "aa637b7e-d235-40cd-9846-50b05d2b1602",
   "metadata": {},
   "outputs": [
    {
     "data": {
      "text/plain": [
       "[1, 2, 3, 'spam', 's', 'p', 'a', 'm']"
      ]
     },
     "execution_count": 16,
     "metadata": {},
     "output_type": "execute_result"
    }
   ],
   "source": [
    "list(G.nodes)"
   ]
  },
  {
   "cell_type": "code",
   "execution_count": 17,
   "id": "48a692e4-1535-47c7-9145-e6849d492b5f",
   "metadata": {},
   "outputs": [
    {
     "data": {
      "text/plain": [
       "[(1, 2), (1, 3), (3, 'm')]"
      ]
     },
     "execution_count": 17,
     "metadata": {},
     "output_type": "execute_result"
    }
   ],
   "source": [
    "list(G.edges)"
   ]
  },
  {
   "cell_type": "code",
   "execution_count": 18,
   "id": "4f91895f-0633-4b3d-bb70-90777e28b013",
   "metadata": {},
   "outputs": [
    {
     "data": {
      "text/plain": [
       "[1, 2, 3, 'spam', 's', 'p', 'a', 'm']"
      ]
     },
     "execution_count": 18,
     "metadata": {},
     "output_type": "execute_result"
    }
   ],
   "source": [
    "list(G.adj)"
   ]
  },
  {
   "cell_type": "code",
   "execution_count": 19,
   "id": "111e8292-732e-42ad-b139-dc28378803f0",
   "metadata": {},
   "outputs": [
    {
     "data": {
      "text/plain": [
       "[(1, 2), (2, 1), (3, 2), ('spam', 0), ('s', 0), ('p', 0), ('a', 0), ('m', 1)]"
      ]
     },
     "execution_count": 19,
     "metadata": {},
     "output_type": "execute_result"
    }
   ],
   "source": [
    "list(G.degree)"
   ]
  },
  {
   "cell_type": "code",
   "execution_count": 20,
   "id": "1319315e-eced-473c-8a3d-4ab479da81bd",
   "metadata": {},
   "outputs": [
    {
     "data": {
      "text/plain": [
       "2"
      ]
     },
     "execution_count": 20,
     "metadata": {},
     "output_type": "execute_result"
    }
   ],
   "source": [
    "G.degree[1]"
   ]
  },
  {
   "cell_type": "code",
   "execution_count": 21,
   "id": "5011ed5b-cf67-4e7f-b05d-6951e72de148",
   "metadata": {},
   "outputs": [
    {
     "data": {
      "text/plain": [
       "[(1, 2), (2, 1)]"
      ]
     },
     "execution_count": 21,
     "metadata": {},
     "output_type": "execute_result"
    }
   ],
   "source": [
    "list(G.degree([1, 2]))"
   ]
  },
  {
   "cell_type": "code",
   "execution_count": 22,
   "id": "bdd95e4c-45ef-4b3f-baa0-1c32c0b6a13a",
   "metadata": {},
   "outputs": [
    {
     "data": {
      "text/plain": [
       "[(2, 1), ('m', 3)]"
      ]
     },
     "execution_count": 22,
     "metadata": {},
     "output_type": "execute_result"
    }
   ],
   "source": [
    "list(G.edges([2, 'm']))"
   ]
  },
  {
   "cell_type": "code",
   "execution_count": 23,
   "id": "0e0b4b68-aacd-4c5f-8ab4-4c05a52ef4ae",
   "metadata": {},
   "outputs": [
    {
     "data": {
      "text/plain": [
       "[2, 3]"
      ]
     },
     "execution_count": 23,
     "metadata": {},
     "output_type": "execute_result"
    }
   ],
   "source": [
    "list(G.neighbors(1))"
   ]
  },
  {
   "cell_type": "code",
   "execution_count": 24,
   "id": "3b976fff-fb46-4943-bf05-efbe60978f23",
   "metadata": {},
   "outputs": [
    {
     "data": {
      "text/plain": [
       "True"
      ]
     },
     "execution_count": 24,
     "metadata": {},
     "output_type": "execute_result"
    }
   ],
   "source": [
    "list(G.neighbors(1)) == list(G.adj[1])"
   ]
  },
  {
   "cell_type": "code",
   "execution_count": 25,
   "id": "5194afb3-86a0-458d-a388-e078c497e04c",
   "metadata": {},
   "outputs": [
    {
     "data": {
      "text/plain": [
       "[1, 3, 'spam']"
      ]
     },
     "execution_count": 25,
     "metadata": {},
     "output_type": "execute_result"
    }
   ],
   "source": [
    "G.remove_node(2)\n",
    "G.remove_nodes_from(\"spam\")\n",
    "list(G.nodes)"
   ]
  },
  {
   "cell_type": "code",
   "execution_count": 26,
   "id": "81fda0ca-1d74-4d42-9d95-6b9a1029fcd7",
   "metadata": {},
   "outputs": [],
   "source": [
    "G.remove_edge(1, 3)    # G.remove_edges_from([...]) works as well"
   ]
  },
  {
   "cell_type": "markdown",
   "id": "5989ae45-878b-4fc8-b206-fca1ec3b59e3",
   "metadata": {},
   "source": [
    "^^^  \n",
    "Poprzednie komórki **zwrócą błąd**, jeśli nie ma już takiej krawędzi/wierzchołka "
   ]
  },
  {
   "cell_type": "code",
   "execution_count": 28,
   "id": "4a5bb8b5-1b63-4554-a1f5-a315c006e1e4",
   "metadata": {},
   "outputs": [
    {
     "data": {
      "text/plain": [
       "[(1, 2), (2, 1)]"
      ]
     },
     "execution_count": 28,
     "metadata": {},
     "output_type": "execute_result"
    }
   ],
   "source": [
    "G.add_edge(1, 2)\n",
    "H = nx.DiGraph(G)   # create a DiGraph using the connections from G\n",
    "list(H.edges())"
   ]
  },
  {
   "cell_type": "code",
   "execution_count": 30,
   "id": "a45cd293-2916-4463-9edf-8570bc2864c6",
   "metadata": {},
   "outputs": [
    {
     "data": {
      "text/plain": [
       "[(0, 1), (1, 2), (2, 3)]"
      ]
     },
     "execution_count": 30,
     "metadata": {},
     "output_type": "execute_result"
    }
   ],
   "source": [
    "edgelist = [(0, 1), (1, 2), (2, 3)]\n",
    "H = nx.Graph(edgelist)\n",
    "list(H.edges())"
   ]
  },
  {
   "cell_type": "markdown",
   "id": "70e4f0da-bdc2-4af7-9b39-7c09687d89f1",
   "metadata": {},
   "source": [
    "Ale niestety coś takiego już **nie działa**, zwraca błąd:\n",
    "```python\n",
    "nodelist = [0, 1, 2, 3, 4, 5]\n",
    "H = nx.Graph(nodelist)\n",
    "```"
   ]
  },
  {
   "cell_type": "code",
   "execution_count": 52,
   "id": "908ad3a4-31a8-4d33-8e68-0030634acaa2",
   "metadata": {},
   "outputs": [
    {
     "data": {
      "text/plain": [
       "AtlasView({2: {'color': 'yellow'}})"
      ]
     },
     "execution_count": 52,
     "metadata": {},
     "output_type": "execute_result"
    }
   ],
   "source": [
    "G = nx.Graph([(1, 2, {\"color\": \"yellow\"})])\n",
    "G[1]  # same as G.adj[1]"
   ]
  },
  {
   "cell_type": "code",
   "execution_count": 53,
   "id": "955b1992-349f-4e70-968d-962e21fa8172",
   "metadata": {},
   "outputs": [
    {
     "data": {
      "text/plain": [
       "{'color': 'yellow'}"
      ]
     },
     "execution_count": 53,
     "metadata": {},
     "output_type": "execute_result"
    }
   ],
   "source": [
    "G[1][2]"
   ]
  },
  {
   "cell_type": "code",
   "execution_count": 54,
   "id": "f29242bb-3820-4b30-a0a4-55891c61882f",
   "metadata": {},
   "outputs": [
    {
     "data": {
      "text/plain": [
       "{'color': 'yellow'}"
      ]
     },
     "execution_count": 54,
     "metadata": {},
     "output_type": "execute_result"
    }
   ],
   "source": [
    "G.edges[1, 2]"
   ]
  },
  {
   "cell_type": "code",
   "execution_count": 55,
   "id": "4a25408e-90fb-496b-869e-9d591f6b5691",
   "metadata": {},
   "outputs": [
    {
     "data": {
      "text/plain": [
       "{'color': 'red'}"
      ]
     },
     "execution_count": 55,
     "metadata": {},
     "output_type": "execute_result"
    }
   ],
   "source": [
    "# Works ONLY if the edge already exists\n",
    "G.add_edge(1, 3)\n",
    "G[1][3]['color'] = \"blue\"\n",
    "G[1][3]\n",
    "G.edges[1, 3]['color'] = \"red\"\n",
    "G.edges[1, 3]"
   ]
  },
  {
   "cell_type": "code",
   "execution_count": 58,
   "id": "6be20414-b3ab-41cb-ba79-e354ecfd72e9",
   "metadata": {},
   "outputs": [
    {
     "name": "stdout",
     "output_type": "stream",
     "text": [
      "(1, 2, 0.125)\n",
      "(2, 1, 0.125)\n",
      "(3, 4, 0.375)\n",
      "(4, 3, 0.375)\n"
     ]
    }
   ],
   "source": [
    "FG = nx.Graph()\n",
    "\n",
    "FG.add_weighted_edges_from([\n",
    "    (1, 2, 0.125), \n",
    "    (1, 3, 0.75), \n",
    "    (2, 4, 1.2), \n",
    "    (3, 4, 0.375),\n",
    "])\n",
    "\n",
    "for n, nbrs in FG.adj.items():\n",
    "    for nbr, eattr in nbrs.items():\n",
    "        wt = eattr['weight']\n",
    "        if wt < 0.5: \n",
    "            print(f\"({n}, {nbr}, {wt:.3})\")"
   ]
  },
  {
   "cell_type": "code",
   "execution_count": 59,
   "id": "d15385ab-f401-4f7a-ab9f-a8d8646163ac",
   "metadata": {},
   "outputs": [
    {
     "name": "stdout",
     "output_type": "stream",
     "text": [
      "(1, 2, 0.125)\n",
      "(3, 4, 0.375)\n"
     ]
    }
   ],
   "source": [
    "for (u, v, wt) in FG.edges.data('weight'):\n",
    "    if wt < 0.5:\n",
    "        print(f\"({u}, {v}, {wt:.3})\")"
   ]
  },
  {
   "cell_type": "code",
   "execution_count": 60,
   "id": "bd04f2dc-cffc-489d-9ec5-2b6d211a967e",
   "metadata": {},
   "outputs": [
    {
     "data": {
      "text/plain": [
       "{'day': 'Friday'}"
      ]
     },
     "execution_count": 60,
     "metadata": {},
     "output_type": "execute_result"
    }
   ],
   "source": [
    "G = nx.Graph(day=\"Friday\")\n",
    "G.graph"
   ]
  },
  {
   "cell_type": "code",
   "execution_count": 61,
   "id": "7cbd3787-18e4-404b-92c0-57f6224c4040",
   "metadata": {},
   "outputs": [
    {
     "data": {
      "text/plain": [
       "{'time': '5pm'}"
      ]
     },
     "execution_count": 61,
     "metadata": {},
     "output_type": "execute_result"
    }
   ],
   "source": [
    "G.add_node(1, time='5pm')\n",
    "G.add_nodes_from([3], time='2pm')\n",
    "G.nodes[1]"
   ]
  },
  {
   "cell_type": "code",
   "execution_count": 62,
   "id": "d978ee1a-e18f-42ff-86c5-d5f37e4863e6",
   "metadata": {},
   "outputs": [
    {
     "data": {
      "text/plain": [
       "NodeDataView({1: {'time': '5pm', 'room': 714}, 3: {'time': '2pm'}})"
      ]
     },
     "execution_count": 62,
     "metadata": {},
     "output_type": "execute_result"
    }
   ],
   "source": [
    "G.nodes[1]['room'] = 714\n",
    "G.nodes.data()\n"
   ]
  },
  {
   "cell_type": "code",
   "execution_count": 63,
   "id": "d64abcd3-5fa8-48b1-81b6-8f394ebd312c",
   "metadata": {},
   "outputs": [
    {
     "data": {
      "text/plain": [
       "0.5"
      ]
     },
     "execution_count": 63,
     "metadata": {},
     "output_type": "execute_result"
    }
   ],
   "source": [
    "DG = nx.DiGraph()\n",
    "DG.add_weighted_edges_from([(1, 2, 0.5), (3, 1, 0.75)])\n",
    "DG.out_degree(1, weight='weight')"
   ]
  },
  {
   "cell_type": "code",
   "execution_count": 64,
   "id": "ffa33ba9-671e-4a66-a2d0-0d90d3c59e49",
   "metadata": {},
   "outputs": [
    {
     "data": {
      "text/plain": [
       "1.25"
      ]
     },
     "execution_count": 64,
     "metadata": {},
     "output_type": "execute_result"
    }
   ],
   "source": [
    "DG.degree(1, weight='weight')"
   ]
  },
  {
   "cell_type": "code",
   "execution_count": 65,
   "id": "504fb617-c27a-468e-95f7-51dca3795c4d",
   "metadata": {},
   "outputs": [
    {
     "data": {
      "text/plain": [
       "[2]"
      ]
     },
     "execution_count": 65,
     "metadata": {},
     "output_type": "execute_result"
    }
   ],
   "source": [
    "list(DG.successors(1))"
   ]
  },
  {
   "cell_type": "code",
   "execution_count": 67,
   "id": "244ddaa7-2aee-4842-a4e4-04e51a7a7ccb",
   "metadata": {},
   "outputs": [
    {
     "data": {
      "text/plain": [
       "[3]"
      ]
     },
     "execution_count": 67,
     "metadata": {},
     "output_type": "execute_result"
    }
   ],
   "source": [
    "list(DG.predecessors(1))"
   ]
  },
  {
   "cell_type": "code",
   "execution_count": 68,
   "id": "68b1f63f-3874-4973-9c44-1858a9ff5aab",
   "metadata": {},
   "outputs": [
    {
     "data": {
      "text/plain": [
       "[2]"
      ]
     },
     "execution_count": 68,
     "metadata": {},
     "output_type": "execute_result"
    }
   ],
   "source": [
    "list(DG.neighbors(1))"
   ]
  },
  {
   "cell_type": "code",
   "execution_count": 69,
   "id": "da7c9d52-2e13-403c-8060-0ad619203e8c",
   "metadata": {},
   "outputs": [],
   "source": [
    "H = nx.Graph(G)  # create an undirected graph H from a directed graph G"
   ]
  },
  {
   "cell_type": "code",
   "execution_count": 71,
   "id": "0844090e-bcdd-4b3b-8e27-975e6eb985fa",
   "metadata": {},
   "outputs": [
    {
     "data": {
      "text/plain": [
       "[{1, 2, 3}, {'spam'}]"
      ]
     },
     "execution_count": 71,
     "metadata": {},
     "output_type": "execute_result"
    }
   ],
   "source": [
    "G = nx.Graph()\n",
    "G.add_edges_from([(1, 2), (1, 3)])\n",
    "G.add_node(\"spam\")       # adds node \"spam\"\n",
    "list(nx.connected_components(G))"
   ]
  },
  {
   "cell_type": "code",
   "execution_count": 72,
   "id": "14b9783a-3101-4ea6-8e40-92d964ae33a7",
   "metadata": {},
   "outputs": [
    {
     "data": {
      "text/plain": [
       "[0, 1, 1, 2]"
      ]
     },
     "execution_count": 72,
     "metadata": {},
     "output_type": "execute_result"
    }
   ],
   "source": [
    "sorted(d for n, d in G.degree())"
   ]
  },
  {
   "cell_type": "code",
   "execution_count": 73,
   "id": "563de7e7-e31b-4173-ba70-b6e1cc422b3e",
   "metadata": {},
   "outputs": [
    {
     "data": {
      "text/plain": [
       "{1: 0, 2: 0, 3: 0, 'spam': 0}"
      ]
     },
     "execution_count": 73,
     "metadata": {},
     "output_type": "execute_result"
    }
   ],
   "source": [
    "nx.clustering(G)"
   ]
  },
  {
   "cell_type": "code",
   "execution_count": 77,
   "id": "5f76adb2-b661-4e48-bc9e-1044bf1e943c",
   "metadata": {},
   "outputs": [
    {
     "data": {
      "text/plain": [
       "{1: {1: [1], 2: [1, 2], 3: [1, 3]},\n",
       " 2: {2: [2], 1: [2, 1], 3: [2, 1, 3]},\n",
       " 3: {3: [3], 1: [3, 1], 2: [3, 1, 2]},\n",
       " 'spam': {'spam': ['spam']}}"
      ]
     },
     "execution_count": 77,
     "metadata": {},
     "output_type": "execute_result"
    }
   ],
   "source": [
    "dict(nx.all_pairs_shortest_path(G))"
   ]
  },
  {
   "cell_type": "code",
   "execution_count": 97,
   "id": "3200c76c-cd1d-4694-b79d-2a12f237a7c1",
   "metadata": {},
   "outputs": [
    {
     "data": {
      "image/png": "[encoded data removed]",
      "text/plain": [
       "<Figure size 432x288 with 2 Axes>"
      ]
     },
     "metadata": {},
     "output_type": "display_data"
    }
   ],
   "source": [
    "fig, (ax1, ax2) = plt.subplots(1, 2)    # 1 row 2 columns\n",
    "G = nx.petersen_graph()\n",
    "nx.draw(G, with_labels=True, \n",
    "        font_weight='bold', \n",
    "        ax=ax1\n",
    "       )\n",
    "nx.draw_shell(\n",
    "    G, nlist=[range(5, 10), range(5)], \n",
    "    with_labels=True, \n",
    "    font_weight='bold', \n",
    "    ax=ax2\n",
    ")"
   ]
  },
  {
   "cell_type": "code",
   "execution_count": 98,
   "id": "d8d446d6-0068-4fb3-b977-f4dad2096ddd",
   "metadata": {},
   "outputs": [
    {
     "data": {
      "image/png": "[encoded data removed]",
      "text/plain": [
       "<Figure size 432x288 with 1 Axes>"
      ]
     },
     "metadata": {},
     "output_type": "display_data"
    }
   ],
   "source": [
    "options = {\n",
    "    'node_color': 'black',\n",
    "    'node_size': 100,\n",
    "    'width': 3,\n",
    "}\n",
    "G = nx.dodecahedral_graph()\n",
    "shells = [[2, 3, 4, 5, 6], [8, 1, 0, 19, 18, 17, 16, 15, 14, 7], [9, 10, 11, 12, 13]]\n",
    "nx.draw_shell(G, nlist=shells, **options)"
   ]
  },
  {
   "cell_type": "code",
   "execution_count": null,
   "id": "c13f0caf-d71b-4282-81cb-5cf5e983dd06",
   "metadata": {},
   "outputs": [],
   "source": []
  }
 ],
 "metadata": {
  "kernelspec": {
   "display_name": "Python 3 (ipykernel)",
   "language": "python",
   "name": "python3"
  },
  "language_info": {
   "codemirror_mode": {
    "name": "ipython",
    "version": 3
   },
   "file_extension": ".py",
   "mimetype": "text/x-python",
   "name": "python",
   "nbconvert_exporter": "python",
   "pygments_lexer": "ipython3",
   "version": "3.9.7"
  }
 },
 "nbformat": 4,
 "nbformat_minor": 5
}
