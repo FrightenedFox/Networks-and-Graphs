{
 "cells": [
  {
   "cell_type": "markdown",
   "id": "8d6a9b05-b84b-4696-8ab5-9c4604af311e",
   "metadata": {},
   "source": [
    "## Cities graph"
   ]
  },
  {
   "cell_type": "code",
   "execution_count": 1,
   "id": "b1ea7eca-d916-417d-b8c1-162c098f7951",
   "metadata": {},
   "outputs": [],
   "source": [
    "import pandas as pd\n",
    "import networkx as nx \n",
    "import numpy as np\n",
    "import matplotlib as plt"
   ]
  },
  {
   "cell_type": "code",
   "execution_count": 87,
   "id": "9f88a111-0b46-4560-a6e4-7440c2e9d2b5",
   "metadata": {},
   "outputs": [
    {
     "data": {
      "text/html": [
       "<div>\n",
       "<style scoped>\n",
       "    .dataframe tbody tr th:only-of-type {\n",
       "        vertical-align: middle;\n",
       "    }\n",
       "\n",
       "    .dataframe tbody tr th {\n",
       "        vertical-align: top;\n",
       "    }\n",
       "\n",
       "    .dataframe thead th {\n",
       "        text-align: right;\n",
       "    }\n",
       "</style>\n",
       "<table border=\"1\" class=\"dataframe\">\n",
       "  <thead>\n",
       "    <tr style=\"text-align: right;\">\n",
       "      <th></th>\n",
       "      <th>City</th>\n",
       "      <th>District</th>\n",
       "      <th>Province</th>\n",
       "      <th>Population</th>\n",
       "      <th>Latitude</th>\n",
       "      <th>Longitude</th>\n",
       "    </tr>\n",
       "  </thead>\n",
       "  <tbody>\n",
       "    <tr>\n",
       "      <th>0</th>\n",
       "      <td>Warszawa</td>\n",
       "      <td>powiat Warszawa</td>\n",
       "      <td>mazowieckie</td>\n",
       "      <td>1794166</td>\n",
       "      <td>52.259</td>\n",
       "      <td>21.020</td>\n",
       "    </tr>\n",
       "    <tr>\n",
       "      <th>1</th>\n",
       "      <td>Kraków</td>\n",
       "      <td>powiat Kraków</td>\n",
       "      <td>małopolskie</td>\n",
       "      <td>779966</td>\n",
       "      <td>50.060</td>\n",
       "      <td>19.959</td>\n",
       "    </tr>\n",
       "    <tr>\n",
       "      <th>2</th>\n",
       "      <td>Łódź</td>\n",
       "      <td>powiat Łódź</td>\n",
       "      <td>łódzkie</td>\n",
       "      <td>672185</td>\n",
       "      <td>51.770</td>\n",
       "      <td>19.459</td>\n",
       "    </tr>\n",
       "    <tr>\n",
       "      <th>3</th>\n",
       "      <td>Wrocław</td>\n",
       "      <td>powiat Wrocław</td>\n",
       "      <td>dolnośląskie</td>\n",
       "      <td>641928</td>\n",
       "      <td>51.110</td>\n",
       "      <td>17.030</td>\n",
       "    </tr>\n",
       "    <tr>\n",
       "      <th>4</th>\n",
       "      <td>Poznań</td>\n",
       "      <td>powiat Poznań</td>\n",
       "      <td>wielkopolskie</td>\n",
       "      <td>532048</td>\n",
       "      <td>52.399</td>\n",
       "      <td>16.900</td>\n",
       "    </tr>\n",
       "  </tbody>\n",
       "</table>\n",
       "</div>"
      ],
      "text/plain": [
       "       City         District       Province  Population  Latitude  Longitude\n",
       "0  Warszawa  powiat Warszawa    mazowieckie     1794166    52.259     21.020\n",
       "1    Kraków    powiat Kraków    małopolskie      779966    50.060     19.959\n",
       "2      Łódź      powiat Łódź        łódzkie      672185    51.770     19.459\n",
       "3   Wrocław   powiat Wrocław   dolnośląskie      641928    51.110     17.030\n",
       "4    Poznań    powiat Poznań  wielkopolskie      532048    52.399     16.900"
      ]
     },
     "execution_count": 87,
     "metadata": {},
     "output_type": "execute_result"
    }
   ],
   "source": [
    "df = pd.read_csv(\"../Data/Combined.csv\", sep=\";\", decimal=\",\")\n",
    "tdf  = df[:8]\n",
    "df.head()"
   ]
  },
  {
   "cell_type": "code",
   "execution_count": 88,
   "id": "45e09827-90c9-45af-843e-cd1a6d3bbf1d",
   "metadata": {},
   "outputs": [],
   "source": [
    "G = nx.Graph()\n",
    "G.add_nodes_from(tdf.index)\n",
    "nx.set_node_attributes(G, tdf.to_dict(\"index\"))"
   ]
  },
  {
   "cell_type": "code",
   "execution_count": 100,
   "id": "3acb5cdf-54f0-48c6-8013-5cbbfc3eaafb",
   "metadata": {},
   "outputs": [
    {
     "data": {
      "image/png": "[encoded data removed]",
      "text/plain": [
       "<Figure size 432x288 with 1 Axes>"
      ]
     },
     "metadata": {},
     "output_type": "display_data"
    }
   ],
   "source": [
    "nx.draw(G, \n",
    "        pos=list(zip(tdf.Longitude, tdf.Latitude)), \n",
    "        with_labels=True, \n",
    "        node_color=\"cyan\", \n",
    "        node_size=tdf.Population / 1e3, \n",
    "        labels=nx.get_node_attributes(G,\"City\"))"
   ]
  },
  {
   "cell_type": "code",
   "execution_count": null,
   "id": "98be9668-03ee-4c07-a2f4-96dc8727da1c",
   "metadata": {},
   "outputs": [],
   "source": []
  }
 ],
 "metadata": {
  "kernelspec": {
   "display_name": "Python 3 (ipykernel)",
   "language": "python",
   "name": "python3"
  },
  "language_info": {
   "codemirror_mode": {
    "name": "ipython",
    "version": 3
   },
   "file_extension": ".py",
   "mimetype": "text/x-python",
   "name": "python",
   "nbconvert_exporter": "python",
   "pygments_lexer": "ipython3",
   "version": "3.9.7"
  }
 },
 "nbformat": 4,
 "nbformat_minor": 5
}
