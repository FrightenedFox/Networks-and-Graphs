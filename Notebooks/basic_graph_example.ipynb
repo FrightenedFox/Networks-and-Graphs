{
 "cells": [
  {
   "cell_type": "markdown",
   "id": "7428440f-8070-4fe1-807a-d2f6ab3be4af",
   "metadata": {},
   "source": [
    "# **Basic problem solution**"
   ]
  },
  {
   "cell_type": "code",
   "execution_count": 1,
   "id": "96376d2d-c896-4df0-9314-eab88c8f79ca",
   "metadata": {},
   "outputs": [],
   "source": [
    "# imports\n",
    "import numpy as np\n",
    "import pandas as pd\n",
    "import networkx as nx\n",
    "import matplotlib.pyplot as plt"
   ]
  },
  {
   "cell_type": "code",
   "execution_count": 2,
   "id": "a03aed87-4506-4f80-aa0a-be2c19c56efe",
   "metadata": {},
   "outputs": [],
   "source": [
    "# global parameters\n",
    "rng = np.random.default_rng(12345)"
   ]
  },
  {
   "cell_type": "markdown",
   "id": "db2b1af2-5ca5-44c0-93ed-5d8e874bb432",
   "metadata": {},
   "source": [
    "### **Generate random graph**"
   ]
  },
  {
   "cell_type": "code",
   "execution_count": 3,
   "id": "268ff716-c5f1-4d03-9536-6a9248de9036",
   "metadata": {},
   "outputs": [],
   "source": [
    "# local parameters\n",
    "nnodes = 10\n",
    "nedges = 12"
   ]
  },
  {
   "cell_type": "code",
   "execution_count": 4,
   "id": "9434c9af-dabf-4155-b892-0598177899b6",
   "metadata": {},
   "outputs": [],
   "source": [
    "# Checks \n",
    "assert nedges <= (nnodes - 1) * nnodes / 2    # nedges > max possible nedges in the full graph"
   ]
  },
  {
   "cell_type": "code",
   "execution_count": 5,
   "id": "83e51b1f-26cb-4513-89cb-6f28ec9b8eaa",
   "metadata": {},
   "outputs": [],
   "source": [
    "G = nx.gnm_random_graph(nnodes, nedges)"
   ]
  },
  {
   "cell_type": "code",
   "execution_count": 6,
   "id": "0f476c71-1ce1-45c1-ad20-e357fea79230",
   "metadata": {},
   "outputs": [
    {
     "data": {
      "text/plain": "<Figure size 432x288 with 1 Axes>",
      "image/png": "[encoded data removed]"
     },
     "metadata": {},
     "output_type": "display_data"
    }
   ],
   "source": [
    "nx.draw(\n",
    "    G, \n",
    "    with_labels=True, \n",
    "    node_color=\"indigo\",\n",
    "    font_color=\"w\",\n",
    ")"
   ]
  },
  {
   "cell_type": "code",
   "execution_count": 7,
   "id": "ac0eb3cb-648f-4d99-abdd-c7c6be253297",
   "metadata": {},
   "outputs": [
    {
     "data": {
      "text/plain": "{0: 0.0,\n 1: 0.18518518518518515,\n 2: 0.20833333333333331,\n 3: 0.12037037037037035,\n 4: 0.17129629629629628,\n 5: 0.0,\n 6: 0.20833333333333331,\n 7: 0.0,\n 8: 0.10648148148148148,\n 9: 0.0}"
     },
     "execution_count": 7,
     "metadata": {},
     "output_type": "execute_result"
    }
   ],
   "source": [
    "# Betweenness centrality\n",
    "nx.betweenness_centrality(G)"
   ]
  },
  {
   "cell_type": "code",
   "execution_count": 8,
   "id": "f9b38f8d-1ee0-4620-8046-5dd53f1f1b7a",
   "metadata": {},
   "outputs": [
    {
     "data": {
      "text/plain": "   0  1  2  3  4  5  6  7  8  9\n0  0  0  0  0  1  0  0  0  1  0\n1  0  0  1  0  0  0  1  0  1  0\n2  0  1  0  1  0  1  0  0  0  0\n3  0  0  1  0  1  0  0  0  1  0\n4  1  0  0  1  0  0  1  0  1  0\n5  0  0  1  0  0  0  0  0  0  0\n6  0  1  0  0  1  0  0  1  0  0\n7  0  0  0  0  0  0  1  0  0  0\n8  1  1  0  1  1  0  0  0  0  0\n9  0  0  0  0  0  0  0  0  0  0",
      "text/html": "<div>\n<style scoped>\n    .dataframe tbody tr th:only-of-type {\n        vertical-align: middle;\n    }\n\n    .dataframe tbody tr th {\n        vertical-align: top;\n    }\n\n    .dataframe thead th {\n        text-align: right;\n    }\n</style>\n<table border=\"1\" class=\"dataframe\">\n  <thead>\n    <tr style=\"text-align: right;\">\n      <th></th>\n      <th>0</th>\n      <th>1</th>\n      <th>2</th>\n      <th>3</th>\n      <th>4</th>\n      <th>5</th>\n      <th>6</th>\n      <th>7</th>\n      <th>8</th>\n      <th>9</th>\n    </tr>\n  </thead>\n  <tbody>\n    <tr>\n      <th>0</th>\n      <td>0</td>\n      <td>0</td>\n      <td>0</td>\n      <td>0</td>\n      <td>1</td>\n      <td>0</td>\n      <td>0</td>\n      <td>0</td>\n      <td>1</td>\n      <td>0</td>\n    </tr>\n    <tr>\n      <th>1</th>\n      <td>0</td>\n      <td>0</td>\n      <td>1</td>\n      <td>0</td>\n      <td>0</td>\n      <td>0</td>\n      <td>1</td>\n      <td>0</td>\n      <td>1</td>\n      <td>0</td>\n    </tr>\n    <tr>\n      <th>2</th>\n      <td>0</td>\n      <td>1</td>\n      <td>0</td>\n      <td>1</td>\n      <td>0</td>\n      <td>1</td>\n      <td>0</td>\n      <td>0</td>\n      <td>0</td>\n      <td>0</td>\n    </tr>\n    <tr>\n      <th>3</th>\n      <td>0</td>\n      <td>0</td>\n      <td>1</td>\n      <td>0</td>\n      <td>1</td>\n      <td>0</td>\n      <td>0</td>\n      <td>0</td>\n      <td>1</td>\n      <td>0</td>\n    </tr>\n    <tr>\n      <th>4</th>\n      <td>1</td>\n      <td>0</td>\n      <td>0</td>\n      <td>1</td>\n      <td>0</td>\n      <td>0</td>\n      <td>1</td>\n      <td>0</td>\n      <td>1</td>\n      <td>0</td>\n    </tr>\n    <tr>\n      <th>5</th>\n      <td>0</td>\n      <td>0</td>\n      <td>1</td>\n      <td>0</td>\n      <td>0</td>\n      <td>0</td>\n      <td>0</td>\n      <td>0</td>\n      <td>0</td>\n      <td>0</td>\n    </tr>\n    <tr>\n      <th>6</th>\n      <td>0</td>\n      <td>1</td>\n      <td>0</td>\n      <td>0</td>\n      <td>1</td>\n      <td>0</td>\n      <td>0</td>\n      <td>1</td>\n      <td>0</td>\n      <td>0</td>\n    </tr>\n    <tr>\n      <th>7</th>\n      <td>0</td>\n      <td>0</td>\n      <td>0</td>\n      <td>0</td>\n      <td>0</td>\n      <td>0</td>\n      <td>1</td>\n      <td>0</td>\n      <td>0</td>\n      <td>0</td>\n    </tr>\n    <tr>\n      <th>8</th>\n      <td>1</td>\n      <td>1</td>\n      <td>0</td>\n      <td>1</td>\n      <td>1</td>\n      <td>0</td>\n      <td>0</td>\n      <td>0</td>\n      <td>0</td>\n      <td>0</td>\n    </tr>\n    <tr>\n      <th>9</th>\n      <td>0</td>\n      <td>0</td>\n      <td>0</td>\n      <td>0</td>\n      <td>0</td>\n      <td>0</td>\n      <td>0</td>\n      <td>0</td>\n      <td>0</td>\n      <td>0</td>\n    </tr>\n  </tbody>\n</table>\n</div>"
     },
     "execution_count": 8,
     "metadata": {},
     "output_type": "execute_result"
    }
   ],
   "source": [
    "# Adjacency matrix\n",
    "nx.to_pandas_adjacency(G, dtype=int)"
   ]
  },
  {
   "cell_type": "markdown",
   "id": "ea21ff56-7fff-4e5c-8f41-74581b4e09f0",
   "metadata": {},
   "source": [
    "### **Read graph from file**"
   ]
  },
  {
   "cell_type": "code",
   "execution_count": 9,
   "id": "f9b8af0f-ec30-41ed-a163-dbf51353d16f",
   "metadata": {},
   "outputs": [],
   "source": [
    "df = pd.read_csv(\"example_adjacency_matrix.csv\", header=None)\n",
    "H = nx.from_pandas_adjacency(df)"
   ]
  },
  {
   "cell_type": "code",
   "execution_count": 10,
   "id": "9fefbdd9-e3dd-48ae-84b3-f8f2fd8b6d9c",
   "metadata": {},
   "outputs": [
    {
     "data": {
      "text/plain": "<Figure size 432x288 with 1 Axes>",
      "image/png": "[encoded data removed]"
     },
     "metadata": {},
     "output_type": "display_data"
    }
   ],
   "source": [
    "nx.draw(\n",
    "    H, \n",
    "    with_labels=True, \n",
    "    node_color=\"cyan\",\n",
    "    font_color=\"k\",\n",
    ")"
   ]
  },
  {
   "cell_type": "code",
   "execution_count": 11,
   "id": "9a6e660a-9d93-4687-ae3f-3c6452fa7811",
   "metadata": {},
   "outputs": [
    {
     "data": {
      "text/plain": "{0: 0.08333333333333333, 1: 0.08333333333333333, 2: 0.25, 3: 0.0, 4: 0.25}"
     },
     "execution_count": 11,
     "metadata": {},
     "output_type": "execute_result"
    }
   ],
   "source": [
    "# Betweenness centrality \n",
    "nx.betweenness_centrality(H)"
   ]
  },
  {
   "cell_type": "code",
   "execution_count": 12,
   "id": "bad1a343-b240-438d-89b9-8e01e908a210",
   "metadata": {},
   "outputs": [
    {
     "data": {
      "text/plain": "   0  1  2  3  4\n0  0  1  0  0  1\n1  1  0  1  0  0\n2  0  1  0  1  1\n3  0  0  1  0  1\n4  1  0  1  1  0",
      "text/html": "<div>\n<style scoped>\n    .dataframe tbody tr th:only-of-type {\n        vertical-align: middle;\n    }\n\n    .dataframe tbody tr th {\n        vertical-align: top;\n    }\n\n    .dataframe thead th {\n        text-align: right;\n    }\n</style>\n<table border=\"1\" class=\"dataframe\">\n  <thead>\n    <tr style=\"text-align: right;\">\n      <th></th>\n      <th>0</th>\n      <th>1</th>\n      <th>2</th>\n      <th>3</th>\n      <th>4</th>\n    </tr>\n  </thead>\n  <tbody>\n    <tr>\n      <th>0</th>\n      <td>0</td>\n      <td>1</td>\n      <td>0</td>\n      <td>0</td>\n      <td>1</td>\n    </tr>\n    <tr>\n      <th>1</th>\n      <td>1</td>\n      <td>0</td>\n      <td>1</td>\n      <td>0</td>\n      <td>0</td>\n    </tr>\n    <tr>\n      <th>2</th>\n      <td>0</td>\n      <td>1</td>\n      <td>0</td>\n      <td>1</td>\n      <td>1</td>\n    </tr>\n    <tr>\n      <th>3</th>\n      <td>0</td>\n      <td>0</td>\n      <td>1</td>\n      <td>0</td>\n      <td>1</td>\n    </tr>\n    <tr>\n      <th>4</th>\n      <td>1</td>\n      <td>0</td>\n      <td>1</td>\n      <td>1</td>\n      <td>0</td>\n    </tr>\n  </tbody>\n</table>\n</div>"
     },
     "execution_count": 12,
     "metadata": {},
     "output_type": "execute_result"
    }
   ],
   "source": [
    "# Adjacency matrix\n",
    "nx.to_pandas_adjacency(H, dtype=int)"
   ]
  },
  {
   "cell_type": "markdown",
   "source": [
    "### **Apply mutations to the graph**"
   ],
   "metadata": {
    "collapsed": false,
    "pycharm": {
     "name": "#%% md\n"
    }
   }
  },
  {
   "cell_type": "code",
   "execution_count": 161,
   "outputs": [
    {
     "data": {
      "text/plain": "False"
     },
     "execution_count": 161,
     "metadata": {},
     "output_type": "execute_result"
    }
   ],
   "source": [
    "prob = 0.1  # mutation probability\n",
    "n = len(H.nodes)\n",
    "ad_mat = nx.to_numpy_array(H, dtype=int)\n",
    "mask = np.tril(rng.choice([0, 1], (n, n), p=[1 - prob, prob]), k=-1)\n",
    "mask += mask.T\n",
    "new_ad_mat = ad_mat ^ mask\n",
    "Q = nx.from_numpy_array(new_ad_mat)\n",
    "nx.is_isomorphic(H, Q)"
   ],
   "metadata": {
    "collapsed": false,
    "pycharm": {
     "name": "#%%\n"
    }
   }
  },
  {
   "cell_type": "code",
   "execution_count": 162,
   "outputs": [
    {
     "data": {
      "text/plain": "<Figure size 432x288 with 1 Axes>",
      "image/png": "[encoded data removed]"
     },
     "metadata": {},
     "output_type": "display_data"
    }
   ],
   "source": [
    "nx.draw(\n",
    "    Q,\n",
    "    with_labels=True,\n",
    "    node_color=\"lightgreen\",\n",
    "    font_color=\"k\",\n",
    ")"
   ],
   "metadata": {
    "collapsed": false,
    "pycharm": {
     "name": "#%%\n"
    }
   }
  },
  {
   "cell_type": "code",
   "execution_count": 142,
   "outputs": [
    {
     "data": {
      "text/plain": "array([[0, 0, 1, 1, 0],\n       [0, 0, 0, 1, 1],\n       [1, 0, 0, 0, 0],\n       [1, 1, 0, 0, 0],\n       [0, 1, 0, 0, 0]])"
     },
     "execution_count": 142,
     "metadata": {},
     "output_type": "execute_result"
    }
   ],
   "source": [],
   "metadata": {
    "collapsed": false,
    "pycharm": {
     "name": "#%%\n"
    }
   }
  }
 ],
 "metadata": {
  "kernelspec": {
   "display_name": "Python 3 (ipykernel)",
   "language": "python",
   "name": "python3"
  },
  "language_info": {
   "codemirror_mode": {
    "name": "ipython",
    "version": 3
   },
   "file_extension": ".py",
   "mimetype": "text/x-python",
   "name": "python",
   "nbconvert_exporter": "python",
   "pygments_lexer": "ipython3",
   "version": "3.9.7"
  }
 },
 "nbformat": 4,
 "nbformat_minor": 5
}